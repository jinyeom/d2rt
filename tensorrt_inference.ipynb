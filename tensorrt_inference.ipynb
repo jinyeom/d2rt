{
 "cells": [
  {
   "cell_type": "code",
   "execution_count": null,
   "metadata": {
    "scrolled": false
   },
   "outputs": [],
   "source": [
    "from utils.tensorrt import InferenceCore"
   ]
  },
  {
   "cell_type": "code",
   "execution_count": null,
   "metadata": {
    "scrolled": false
   },
   "outputs": [],
   "source": [
    "from pycuda import autoinit\n",
    "import numpy as np"
   ]
  },
  {
   "cell_type": "code",
   "execution_count": null,
   "metadata": {
    "scrolled": false
   },
   "outputs": [],
   "source": [
    "model = InferenceCore(\n",
    "    \"models/retinanet_540p.onnx\",\n",
    "    \"models/retinanet_540p.engine\",\n",
    "    fp16_mode=True,\n",
    ")\n",
    "anchors = np.load(\"models/retinanet_540p_anchors.npy\", allow_pickle=True)"
   ]
  },
  {
   "cell_type": "code",
   "execution_count": null,
   "metadata": {
    "scrolled": false
   },
   "outputs": [],
   "source": [
    "from PIL import Image\n",
    "import numpy as np\n",
    "img = Image.open(\"images/street.jpg\")\n",
    "img = img.resize((960, 540))\n",
    "img = np.array(img)\n",
    "img = np.rollaxis(img, 2, 0)\n",
    "img = img[np.newaxis]"
   ]
  },
  {
   "cell_type": "code",
   "execution_count": null,
   "metadata": {
    "scrolled": false
   },
   "outputs": [],
   "source": [
    "img.shape"
   ]
  },
  {
   "cell_type": "code",
   "execution_count": null,
   "metadata": {
    "scrolled": false
   },
   "outputs": [],
   "source": [
    "outputs = model([img])"
   ]
  },
  {
   "cell_type": "code",
   "execution_count": null,
   "metadata": {
    "scrolled": false
   },
   "outputs": [],
   "source": [
    "for out in outputs:\n",
    "    print(out.shape)"
   ]
  },
  {
   "cell_type": "code",
   "execution_count": null,
   "metadata": {},
   "outputs": [],
   "source": [
    "from utils.postprocess import postprocess"
   ]
  },
  {
   "cell_type": "code",
   "execution_count": null,
   "metadata": {},
   "outputs": [],
   "source": [
    "results = postprocess(outputs, anchors, [1.0, 1.0, 1.0, 1.0], 0.5, 0.2, 1000, 50, True)"
   ]
  },
  {
   "cell_type": "code",
   "execution_count": null,
   "metadata": {},
   "outputs": [],
   "source": [
    "results.shape"
   ]
  },
  {
   "cell_type": "code",
   "execution_count": null,
   "metadata": {},
   "outputs": [],
   "source": [
    "from matplotlib import pyplot as plt\n",
    "from matplotlib import patches\n",
    "img = Image.open(\"images/street.jpg\")\n",
    "img = img.resize((960, 540))\n",
    "img = np.array(img)\n",
    "fig, ax = plt.subplots(1, figsize=(20, 10))\n",
    "ax.imshow(img)\n",
    "for box in results[0]:\n",
    "    x, y, w, h, label, confidence = box\n",
    "    if confidence > 0.5:\n",
    "        rect = patches.Rectangle((x, y), w, h, linewidth=1, edgecolor='r', facecolor='none')\n",
    "        ax.add_patch(rect)\n",
    "plt.show()"
   ]
  },
  {
   "cell_type": "code",
   "execution_count": null,
   "metadata": {},
   "outputs": [],
   "source": [
    "from time import time\n",
    "now = time()\n",
    "for _ in range(10):\n",
    "    outputs = model([np.zeros((1, 3, 540, 960))])\n",
    "    results = postprocess(outputs, anchors, [1.0, 1.0, 1.0, 1.0], 0.5, 0.2, 1000, 50, True)\n",
    "dur = (time() - now) / 10\n",
    "print(\"dur =\", dur)\n",
    "print(\"fps =\", 1 / dur)"
   ]
  },
  {
   "cell_type": "code",
   "execution_count": null,
   "metadata": {},
   "outputs": [],
   "source": [
    "from time import time\n",
    "now = time()\n",
    "for _ in range(10):\n",
    "    outputs = model([np.zeros((1, 3, 540, 960))])\n",
    "dur = (time() - now) / 10\n",
    "print(\"dur =\", dur)\n",
    "print(\"fps =\", 1 / dur)"
   ]
  }
 ],
 "metadata": {
  "kernelspec": {
   "display_name": "Python 3",
   "language": "python",
   "name": "python3"
  },
  "language_info": {
   "codemirror_mode": {
    "name": "ipython",
    "version": 3
   },
   "file_extension": ".py",
   "mimetype": "text/x-python",
   "name": "python",
   "nbconvert_exporter": "python",
   "pygments_lexer": "ipython3",
   "version": "3.6.9"
  }
 },
 "nbformat": 4,
 "nbformat_minor": 4
}
